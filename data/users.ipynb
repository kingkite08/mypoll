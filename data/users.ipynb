{
 "cells": [
  {
   "cell_type": "markdown",
   "metadata": {},
   "source": [
    "A그룹 10대 남자,여자"
   ]
  },
  {
   "cell_type": "markdown",
   "metadata": {},
   "source": [
    "- user이름 password확인\n",
    "- 'users'라는 이름의 schema 먼저 생성 후 실행 "
   ]
  },
  {
   "cell_type": "code",
   "execution_count": 1,
   "metadata": {},
   "outputs": [
    {
     "name": "stdout",
     "output_type": "stream",
     "text": [
      "데이터가 MySQL에 성공적으로 저장되었습니다.\n"
     ]
    }
   ],
   "source": [
    "import pandas as pd\n",
    "from sqlalchemy import create_engine\n",
    "\n",
    "# 1. MySQL 연결 (사용자 정보 입력 필요)\n",
    "USER = \"root\"\n",
    "PASSWORD = \"1111\"\n",
    "HOST = '127.0.0.1'  # 예: 'localhost' 또는 '127.0.0.1'\n",
    "PORT = \"3306\"  # 기본 포트\n",
    "DATABASE = \"users\"\n",
    "# SQLAlchemy 엔진 생성\n",
    "engine = create_engine(f\"mysql+pymysql://{USER}:{PASSWORD}@{HOST}:{PORT}/{DATABASE}\")\n",
    "\n",
    "data = pd.DataFrame({\n",
    "    \"user_id\": [\"randomuser123@gmail.com\", \"testmail987@yahoo.com\", \"sample_acc456@outlook.com\", \"userdemo2025@naver.com\", \"faketest998@icloud.com\"],\n",
    "    \"birth\": [20110919, 20090519, 20080125, 20070105, 20060704], # 생년월일\n",
    "    \"gender\":[\"F\", \"M\", \"M\", \"F\", \"F\"], # 남자를 M, 여자를 F로 설정\n",
    "    \"object\":[\"webtoon\",\"webtoon\",\"none\",\"all\",\"webnovel\"],\n",
    "    \"platform\": [\"naver\",\"naver\",\"kko\",\"all\",\"none\"]\n",
    "})\n",
    "df = pd.DataFrame(data)\n",
    "\n",
    "# 3. DataFrame을 MySQL에 저장\n",
    "TABLE_NAME = \"group_a\"  # 저장할 테이블명\n",
    "\n",
    "df.to_sql(TABLE_NAME, con=engine, if_exists=\"replace\", index=False)\n",
    "\n",
    "print(\"데이터가 MySQL에 성공적으로 저장되었습니다.\")\n"
   ]
  },
  {
   "cell_type": "markdown",
   "metadata": {},
   "source": [
    "B그룹 20~30대 남자"
   ]
  },
  {
   "cell_type": "code",
   "execution_count": 2,
   "metadata": {},
   "outputs": [
    {
     "name": "stdout",
     "output_type": "stream",
     "text": [
      "데이터가 MySQL에 성공적으로 저장되었습니다.\n"
     ]
    }
   ],
   "source": [
    "import pandas as pd\n",
    "from sqlalchemy import create_engine\n",
    "\n",
    "# 1. MySQL 연결 (사용자 정보 입력 필요)\n",
    "USER = \"root\"\n",
    "PASSWORD = \"1111\"\n",
    "HOST = '127.0.0.1'  # 예: 'localhost' 또는 '127.0.0.1'\n",
    "PORT = \"3306\"  # 기본 포트\n",
    "DATABASE = \"users\"\n",
    "\n",
    "# SQLAlchemy 엔진 생성\n",
    "engine = create_engine(f\"mysql+pymysql://{USER}:{PASSWORD}@{HOST}:{PORT}/{DATABASE}\")\n",
    "\n",
    "data = pd.DataFrame({\n",
    "    \"user_id\": [\"bz91p6@daum.net\", \"28u2s@daum.net\", \"07xh33a@daum.net\", \"anjonny@outlook.com\", \"2ljzvw61@daum.net\"],\n",
    "    \"birth\": [20040726, 20010324, 20000221, 19950525, 19890312], # 생년월일\n",
    "    \"gender\":[\"M\", \"M\", \"M\", \"M\", \"M\"], # 남자를 M, 여자를 F로 설정\n",
    "    \"object\":[\"webtoon\",\"all\",\"webtoon\",\"webtoon\",\"webnovel\"],\n",
    "    \"platform\": [\"naver\",\"all\",\"kko\",\"naver\",\"none\"]\n",
    "})\n",
    "df = pd.DataFrame(data)\n",
    "\n",
    "# 3. DataFrame을 MySQL에 저장\n",
    "TABLE_NAME = \"group_b\"  # 저장할 테이블명\n",
    "\n",
    "df.to_sql(TABLE_NAME, con=engine, if_exists=\"replace\", index=False)\n",
    "\n",
    "print(\"데이터가 MySQL에 성공적으로 저장되었습니다.\")\n"
   ]
  },
  {
   "cell_type": "markdown",
   "metadata": {},
   "source": [
    "C그룹 20~30대 여자"
   ]
  },
  {
   "cell_type": "code",
   "execution_count": 3,
   "metadata": {},
   "outputs": [
    {
     "name": "stdout",
     "output_type": "stream",
     "text": [
      "데이터가 MySQL에 성공적으로 저장되었습니다.\n"
     ]
    }
   ],
   "source": [
    "import pandas as pd\n",
    "from sqlalchemy import create_engine\n",
    "\n",
    "# 1. MySQL 연결 (사용자 정보 입력 필요)\n",
    "USER = \"root\"\n",
    "PASSWORD = \"1111\"\n",
    "HOST = '127.0.0.1'  # 예: 'localhost' 또는 '127.0.0.1'\n",
    "PORT = \"3306\"  # 기본 포트\n",
    "DATABASE = \"users\"\n",
    "\n",
    "# SQLAlchemy 엔진 생성\n",
    "engine = create_engine(f\"mysql+pymysql://{USER}:{PASSWORD}@{HOST}:{PORT}/{DATABASE}\")\n",
    "\n",
    "data = pd.DataFrame({\n",
    "    \"user_id\": [\"iut0dbw3zu@yahoo.com\", \"ywycc@daum.net\", \"realhayeon@daum.net\", \"inb86@naver.com\", \"45gbyhu9@gmail.com\"],\n",
    "    \"birth\": [20040816, 20020414, 20000118, 19970622, 19901004], # 생년월일\n",
    "    \"gender\":[\"F\", \"F\", \"F\", \"F\", \"F\"], # 남자를 M, 여자를 F로 설정\n",
    "    \"object\":[\"all\",\"webnovel\",\"none\",\"webtoon\",\"webnovel\"],\n",
    "    \"platform\": [\"naver\",\"all\",\"kko\",\"kko\",\"none\"]\n",
    "})\n",
    "df = pd.DataFrame(data)\n",
    "\n",
    "# 3. DataFrame을 MySQL에 저장\n",
    "TABLE_NAME = \"group_c\"  # 저장할 테이블명\n",
    "\n",
    "df.to_sql(TABLE_NAME, con=engine, if_exists=\"replace\", index=False)\n",
    "\n",
    "print(\"데이터가 MySQL에 성공적으로 저장되었습니다.\")\n"
   ]
  },
  {
   "cell_type": "markdown",
   "metadata": {},
   "source": [
    "D그룹 40대~60대 남자"
   ]
  },
  {
   "cell_type": "code",
   "execution_count": 4,
   "metadata": {},
   "outputs": [
    {
     "name": "stdout",
     "output_type": "stream",
     "text": [
      "데이터가 MySQL에 성공적으로 저장되었습니다.\n"
     ]
    }
   ],
   "source": [
    "import pandas as pd\n",
    "from sqlalchemy import create_engine\n",
    "\n",
    "# 1. MySQL 연결 (사용자 정보 입력 필요)\n",
    "USER = \"root\"\n",
    "PASSWORD = \"1111\"\n",
    "HOST = '127.0.0.1'  # 예: 'localhost' 또는 '127.0.0.1'\n",
    "PORT = \"3306\"  # 기본 포트\n",
    "DATABASE = \"users\"\n",
    "\n",
    "# SQLAlchemy 엔진 생성\n",
    "engine = create_engine(f\"mysql+pymysql://{USER}:{PASSWORD}@{HOST}:{PORT}/{DATABASE}\")\n",
    "\n",
    "data = pd.DataFrame({\n",
    "    \"user_id\": [\"cnvnb@yahoo.com\", \"5zpvfv5@yahoo.com\", \"xwdio@gmail.com\", \"ifh6x@naver.com\", \"k96ymn@outlook.com\"],\n",
    "    \"birth\": [19801226, 19791027, 19760401, 19700321, 19660401], # 생년월일\n",
    "    \"gender\":[\"M\", \"M\", \"M\", \"M\", \"M\"], # 남자를 M, 여자를 F로 설정\n",
    "    \"object\":[\"webnovel\",\"webtoon\",\"all\",\"none\",\"all\"],\n",
    "    \"platform\": [\"kko\",\"naver\",\"all\",\"none\",\"all\"]\n",
    "})\n",
    "df = pd.DataFrame(data)\n",
    "\n",
    "# 3. DataFrame을 MySQL에 저장\n",
    "TABLE_NAME = \"group_d\"  # 저장할 테이블명\n",
    "\n",
    "df.to_sql(TABLE_NAME, con=engine, if_exists=\"replace\", index=False)\n",
    "\n",
    "print(\"데이터가 MySQL에 성공적으로 저장되었습니다.\")\n"
   ]
  },
  {
   "cell_type": "markdown",
   "metadata": {},
   "source": [
    "E그룹 40대~60대 여자"
   ]
  },
  {
   "cell_type": "code",
   "execution_count": 5,
   "metadata": {},
   "outputs": [
    {
     "name": "stdout",
     "output_type": "stream",
     "text": [
      "데이터가 MySQL에 성공적으로 저장되었습니다.\n"
     ]
    }
   ],
   "source": [
    "import pandas as pd\n",
    "from sqlalchemy import create_engine\n",
    "\n",
    "# 1. MySQL 연결 (사용자 정보 입력 필요)\n",
    "USER = \"root\"\n",
    "PASSWORD = \"1111\"\n",
    "HOST = '127.0.0.1'  # 예: 'localhost' 또는 '127.0.0.1'\n",
    "PORT = \"3306\"  # 기본 포트\n",
    "DATABASE = \"users\"\n",
    "\n",
    "# SQLAlchemy 엔진 생성\n",
    "engine = create_engine(f\"mysql+pymysql://{USER}:{PASSWORD}@{HOST}:{PORT}/{DATABASE}\")\n",
    "\n",
    "data = pd.DataFrame({\n",
    "    \"user_id\": [\"tcslu@naver.com\", \"camabx9dm@daum.net\", \"uyp6ieoo@naver.com\", \"rled5@daum.net\", \"kfnjgpx2fa@gmail.com\"],\n",
    "    \"birth\": [19810608, 19761104, 19740120, 19690807, 19670210], # 생년월일\n",
    "    \"gender\":[\"F\", \"F\", \"F\", \"F\", \"F\"], # 남자를 M, 여자를 F로 설정\n",
    "    \"object\":[\"webtoon\",\"webnovel\",\"all\",\"webtoon\",\"webtoon\"],\n",
    "    \"platform\": [\"naver\",\"none\",\"naver\",\"kko\",\"all\"]\n",
    "})\n",
    "df = pd.DataFrame(data)\n",
    "\n",
    "# 3. DataFrame을 MySQL에 저장\n",
    "TABLE_NAME = \"group_e\"  # 저장할 테이블명\n",
    "\n",
    "df.to_sql(TABLE_NAME, con=engine, if_exists=\"replace\", index=False)\n",
    "\n",
    "print(\"데이터가 MySQL에 성공적으로 저장되었습니다.\")\n"
   ]
  },
  {
   "cell_type": "code",
   "execution_count": null,
   "metadata": {},
   "outputs": [],
   "source": []
  },
  {
   "cell_type": "code",
   "execution_count": null,
   "metadata": {},
   "outputs": [],
   "source": []
  }
 ],
 "metadata": {
  "kernelspec": {
   "display_name": "langchain",
   "language": "python",
   "name": "python3"
  },
  "language_info": {
   "codemirror_mode": {
    "name": "ipython",
    "version": 3
   },
   "file_extension": ".py",
   "mimetype": "text/x-python",
   "name": "python",
   "nbconvert_exporter": "python",
   "pygments_lexer": "ipython3",
   "version": "3.12.7"
  }
 },
 "nbformat": 4,
 "nbformat_minor": 2
}
